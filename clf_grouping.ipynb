{
 "cells": [
  {
   "cell_type": "markdown",
   "metadata": {},
   "source": [
    "# Using Word Embeddings for Semantic Analysis of Classifiers"
   ]
  },
  {
   "cell_type": "markdown",
   "metadata": {},
   "source": []
  },
  {
   "cell_type": "markdown",
   "metadata": {},
   "source": [
    "The first step is to import the relevant modules and classes. The NLTK library is used to manipulate the data from the corpus that we're going to use, and Word2Vec is used to convert the corpus vocabulary into vectors that can be manipulated for the analysis."
   ]
  },
  {
   "cell_type": "code",
   "execution_count": 1,
   "metadata": {},
   "outputs": [],
   "source": [
    "import os\n",
    "import pickle\n",
    "from nltk.corpus import PlaintextCorpusReader\n",
    "from nltk.collocations import BigramCollocationFinder as finder, BigramAssocMeasures as measures\n",
    "from gensim.models import Word2Vec"
   ]
  },
  {
   "cell_type": "markdown",
   "metadata": {},
   "source": [
    "The next step is to navigate to the folder containing the raw corpus, and importing it using the `PlaintextCorpusReader` class from the `nltk.corpus` module.\n",
    "The corpus we're using is the SCH Corpus, a publicly-available corpus of Hmong text that derives from forum posts online on soc.culture.hmong Usenet."
   ]
  },
  {
   "cell_type": "code",
   "execution_count": 2,
   "metadata": {},
   "outputs": [],
   "source": [
    "os.chdir(os.path.expanduser(os.path.join('~','sch_corpus')))\n",
    "\n",
    "hmong = PlaintextCorpusReader('.', '.*').sents()"
   ]
  },
  {
   "cell_type": "markdown",
   "metadata": {},
   "source": [
    "Next, we use the Word2Vec class from gensim.models to create our word vectors. The argument `window` is set to 10 to indicate that a window of 10 around the chosen word should be used to train the vectors. `size` is the size of the vector for each word, set here to 150 to enable a reasonably robust yet compact set of vectors. `iter` is the number of iterations used in training; here, I've set it to 50."
   ]
  },
  {
   "cell_type": "code",
   "execution_count": 7,
   "metadata": {},
   "outputs": [],
   "source": [
    "model = Word2Vec(sentences=hmong, window=10, size=150, iter=50, workers=10)"
   ]
  },
  {
   "cell_type": "code",
   "execution_count": 3,
   "metadata": {},
   "outputs": [],
   "source": [
    "import pickle\n",
    "os.chdir(os.path.expanduser(os.path.join(os.path.join('~', 'python_workspace'), 'hmong_clf_graph')))\n",
    "f = open('Word2Vec_model_50.pkl', 'rb')\n",
    "model = pickle.load(f)\n",
    "f.close()"
   ]
  },
  {
   "cell_type": "markdown",
   "metadata": {},
   "source": [
    "This step uses BigramCollocationFinder from nltk.collocations to find all the bigram collocations in the corpus. We do this because we want to have nouns that occur with the Hmong classifier _tus_."
   ]
  },
  {
   "cell_type": "code",
   "execution_count": 4,
   "metadata": {},
   "outputs": [],
   "source": [
    "bigrams = finder.from_words([w for sent in hmong for w in sent])"
   ]
  },
  {
   "cell_type": "markdown",
   "metadata": {},
   "source": [
    "Next, we apply several filters to limit the bigrams we're considering to only those that contain _tus_ or its variant form _tug_, and to ensure the co-occurrence is reasonably common in the corpus, since we want nouns that commonly occur with _tus_."
   ]
  },
  {
   "cell_type": "code",
   "execution_count": 5,
   "metadata": {},
   "outputs": [],
   "source": [
    "bigrams.apply_ngram_filter(lambda x, y: x.lower() not in ['tus', 'tug'])\n",
    "bigrams.apply_freq_filter(20)"
   ]
  },
  {
   "cell_type": "markdown",
   "metadata": {},
   "source": [
    "For this step, we draw bigram collocations from the remaining set of bigrams based on a relatively strong degree of co-occurrence, ranked by the `chi_sq` measure from `nltk.collocations.BigramAssocMeasures`. We limit the output to the 700 highest ranked bigrams based on this measure, as lower ranked members represent instances where the relationship between _tus_ and the second word is not particularly strong.\n",
    "Then we extract out only the nouns from each collocation-chi_sq score pair."
   ]
  },
  {
   "cell_type": "code",
   "execution_count": 6,
   "metadata": {},
   "outputs": [],
   "source": [
    "out = bigrams.score_ngrams(measures.chi_sq)[:700]\n",
    "out_proc = [w[0][1] for w in out]"
   ]
  },
  {
   "cell_type": "markdown",
   "metadata": {},
   "source": [
    "Then, we select out the 500 most common bigrams in the entire corpus, extract the nouns from the collocation-frequency pairs, and take the lowercase versions of each one. Then we limit our set of nouns to consider based on their presence both in the 500 most common bigrams list, as well as the list of 700 with the highest chi squared score. This ensures a balance between the most common nouns with _tus_ in the corpus and those that more strongly correlate with _tus_ in particular."
   ]
  },
  {
   "cell_type": "code",
   "execution_count": 7,
   "metadata": {},
   "outputs": [],
   "source": [
    "finds = bigrams.ngram_fd.most_common(500)\n",
    "finds_proc = [w[0][1] for w in finds]\n",
    "finds_proc_lower = [w.lower() for w in finds_proc]\n",
    "total_proc = [w.lower() for w in out_proc if w in finds_proc_lower]"
   ]
  },
  {
   "cell_type": "markdown",
   "metadata": {},
   "source": [
    "Next we need to clean the list of nouns we're considering to only include what are obviously nouns, only full words, and only nouns from White Hmong. \n",
    "\n",
    "In Hmong, classifiers like _tus_ can be followed by content that are not nouns, such as relative clauses or localizers--that is, a special class of words indicating relative spatial position common in Asian languages; in these cases, the noun is either omitted or is zero.\n",
    "\n",
    "Also, Hmong has two common orthographies: one that puts spaces between _syllables_, and another that puts spaces between _words_. As a result, we need to remove all syllables that are not complete words.\n",
    "\n",
    "Finally, the SCH corpus contains data from both White Hmong and Green Mong. This will create confusion in our analysis, so we explicitly limit our nouns to those from White Hmong."
   ]
  },
  {
   "cell_type": "code",
   "execution_count": 8,
   "metadata": {},
   "outputs": [],
   "source": [
    "non_nouns_to_exclude = ['puav', 'me', 'hluas', 'kws', 'laus', 'twg', 'uas', \\\n",
    "                        'laug', 'ub', 'mos2', '22', 'hlob', 'loj', 'coj', '.', ',', \\\n",
    "                        'ntawd', 'yog', 'tod', 'swb', 'li', 'tuag', '#', 'sau', \\\n",
    "                        'niag', 'tias', 'lawm', 'ib', 'mos', 'muab', '/', 'muaj', \\\n",
    "                        'nrog', 'rau', 'luag', 'ua', 'los', 'nws', 'txawm', 'hais', \\\n",
    "                        'thaum', 'lawv', 'tsi', 'es', 'phem', 'nuav', 'tej', 'has', \\\n",
    "                        'xav', 'hov', 'kuv', 'ces', 'ntawm', 'tawm', 'lwm', '(', 'kiag',\\\n",
    "                        'hu', 'cov', 'ntseeg', 'mus', 'ko', 'mas', 'tiag', 'to', \\\n",
    "                        'yam', 'tag', 'nawb', 'pom', 'miv', 'no', 'peb', 'sib', 'hlub', \\\n",
    "                        'twb', 'thiab', 'pab', 'leej', 'tsis', '...', 'kawg', 'kom', \\\n",
    "                        'xwb', 'tau', 'tshiab', 'noj', 'tus', 'qub', 'lub', 'txoj', \\\n",
    "                        'nyuas', 'thib', 'ntse', 'nyuag', 'thiaj', 'tshab', 'nua', 'koj',\\\n",
    "                        'tham', 'yau', 'tham', 'saib', 'hauv', 'yees', 'teb', 'luj', \\\n",
    "                        'txiav', 'tswj', 'xub', 'thaub', 'cuav', 'puas', 'txheeb', 'puag', \\\n",
    "                        'ruam', 'siab', 'tsim', 'pluag', 'yus', 'tuav', 'rog', 'txawj',\\\n",
    "                        'mob', 'tub']\n",
    "partial_words_to_exclude = ['poj', 'tij', 'quas', 'xf', 'dr', 'ntsuj', 'tib', 'tuab', \\\n",
    "                            'teeb', 'yeeb', 'xeeb', 'kas', 'cawm', 'zuj', 'npau', 'cuj',\\\n",
    "                            'cwj', 'xov', 'kav', 'kab', 'txheej', 'xib', 'huab', 'pej',\\\n",
    "                            'phooj']\n",
    "green_mong_to_exclude = ['mivnyuas', 'nam', 'dlaab', 'puj', 'moob', 'tuabneeg', 'quasyawg',\\\n",
    "                         'quaspuj', 'dlev', 'tsaj', 'nav', 'qab']\n",
    "total_proc = [w for w in total_proc if w not in non_nouns_to_exclude]\n",
    "total_proc = [w for w in total_proc if w not in partial_words_to_exclude]\n",
    "total_proc = [w for w in total_proc if w not in green_mong_to_exclude]\n",
    "total_proc = list(set(total_proc))"
   ]
  },
  {
   "cell_type": "code",
   "execution_count": 9,
   "metadata": {},
   "outputs": [
    {
     "name": "stdout",
     "output_type": "stream",
     "text": [
      "['dab', 'nom', 'ntxhais', 'neej', 'pog', 'nas', 'hmoob', 'muam', 'txiv', 'phone', 'nab', 'dejnum', 'huabtais', 'system', 'noob', 'dej', 'tsiaj', 'txivneej', 'nqi', 'judge', 'president', 'duab', 'txha', 'member', 'kwvtij', 'txiaj', 'npawg', 'nai', 'qhev', 'mejkoob', 'email', 'yeebncuab', 'yawm', 'kasmoos', 'npua', 'niam', 'ntxhiab', 'thawj', 'yawg', 'thawjcoj', 'doctor', 'maum', 'tibneeg', 'uncle', 'kev', 'qaib', 'hneev', 'ntses', 'phoojywg', 'pas', 'kwv', 'nus', 'ntoo', 'cag', 'kheej', 'nyab', 'neeg', 'saub', 'cujpwm', 'vauv', 'leader', 'director', 'nees', 'qhua', 'ntawv', 'nplaig', 'xibfwb', 'policy', 'tsov', 'dev', 'xeebceem', 'nkauj', 'ntiv', 'choj', 'noog', 'txhaum', 'ncej', 'vajtswv', 'twm', 'nais', 'chij', 'cwjpwm', 'tijlaug', 'tswv', 'pojniam', 'menyuam', 'qauv', 'tav', 'cim', 'nuv', 'phauj', 'plig', 'qau', 'nyuj']\n"
     ]
    }
   ],
   "source": [
    "print(total_proc)\n",
    "total_proc_english = ['stick', 'director', 'animal', 'hook', 'aunt', 'scent', 'price', 'brothers', 'pastor', 'doctor',\\\n",
    "                     'money', 'crossbow', 'grandfather', 'policy', 'judge', 'pig', 'human being', 'God', 'fish',\\\n",
    "                     'phallus', 'spirit', 'flag', 'responsibility', 'grandmother', 'water buffalo', 'behavior',\\\n",
    "                     'boss', 'email', 'person', 'finger', 'friend', 'bird', 'boss', 'soul', 'marriage negotiator',\\\n",
    "                     'creator god', 'daughter-in-law', 'form', 'tree trunk', 'cousin', 'cow', 'brother', 'member',\\\n",
    "                     'uncle', 'bridge', 'wife', 'system', 'leader', 'daughter', 'politician', 'enemy', 'leader', 'leader',\\\n",
    "                     'way', 'characteristic', 'brother', 'mother', 'government official', 'rib', 'chicken', 'grandfather',\\\n",
    "                     'symbol', 'tongue', 'man', 'brother', 'pillar', 'young woman', 'servant', 'horse', 'oneself',\\\n",
    "                     'phone', 'sister', 'Hmong', 'seed', 'snake', 'image', 'dog', 'root', 'river', 'letter', 'mistake',\\\n",
    "                     'rat', 'behavior', 'child', 'boss', 'president', 'tiger', 'female', 'father/husband', 'emperor',\\\n",
    "                     'bone', 'guest', 'son-in-law', 'life']"
   ]
  },
  {
   "cell_type": "markdown",
   "metadata": {},
   "source": [
    "Next, we retrieve the vectors from the model for the resulting set of nouns we've chosen."
   ]
  },
  {
   "cell_type": "code",
   "execution_count": 10,
   "metadata": {},
   "outputs": [],
   "source": [
    "total_proc_vectors = [model.wv[w] for w in total_proc]"
   ]
  },
  {
   "cell_type": "markdown",
   "metadata": {},
   "source": [
    "To plot the final dendrogram, we need to import `matplotlib` and the `dendrogram` and `linkage` classes from `scipy.cluster.hierarchy`."
   ]
  },
  {
   "cell_type": "code",
   "execution_count": 8,
   "metadata": {},
   "outputs": [],
   "source": [
    "from matplotlib import pyplot as plt\n",
    "from scipy.cluster.hierarchy import dendrogram, linkage"
   ]
  },
  {
   "cell_type": "markdown",
   "metadata": {},
   "source": [
    "Now, we plot the final dendrogram. The first step is to create a linkage object containing our noun vector list. Then we plot the figure using `matplotlib.pyplot` and the `dendrogram` class. We use `leaf_font_size` to set the font size of the labels in the plot, and `leaf_rotation` to ensure the labels for each noun are rotated vertically to ensure they are legible. The final item, `leaf_label_func`, is defined with a <span style=\"color:green;font-weight:bold;\">lambda</span> function, where a label is mapped to the word in our noun list `total_proc` that corresponds to the vector in the noun vector list `total_proc_vectors`."
   ]
  },
  {
   "cell_type": "code",
   "execution_count": 27,
   "metadata": {},
   "outputs": [
    {
     "data": {
      "image/png": "[encoded data removed]",
      "text/plain": [
       "<Figure size 1800x720 with 1 Axes>"
      ]
     },
     "metadata": {
      "needs_background": "light"
     },
     "output_type": "display_data"
    }
   ],
   "source": [
    "l = linkage(total_proc_vectors, method='complete', metric='seuclidean')\n",
    "plt.figure(figsize=(25,10))\n",
    "plt.ylabel('word')\n",
    "plt.xlabel('distance')\n",
    "dendrogram(l, leaf_font_size=8., leaf_rotation=90., leaf_label_func=lambda v: total_proc[v])\n",
    "plt.show()"
   ]
  },
  {
   "cell_type": "code",
   "execution_count": 18,
   "metadata": {},
   "outputs": [],
   "source": [
    "import pickle\n",
    "f = open('Word2Vec_model_50.pkl', 'wb')\n",
    "pickle.dump(model, f)\n",
    "f.close()"
   ]
  },
  {
   "cell_type": "code",
   "execution_count": 13,
   "metadata": {},
   "outputs": [],
   "source": [
    "from sklearn.cluster import KMeans\n",
    "import numpy as np\n",
    "from scipy.spatial.distance import cdist"
   ]
  },
  {
   "cell_type": "code",
   "execution_count": 19,
   "metadata": {},
   "outputs": [],
   "source": [
    "# from geeksforgeeks.com\n",
    "distortions = []\n",
    "inertias = []\n",
    "mapping1 = {}\n",
    "mapping2 = {}\n",
    "K = range(1,20)\n",
    "\n",
    "for k in K:\n",
    "    kmeanModel = KMeans(n_clusters=k, n_init=30, max_iter=300, random_state=0).fit(total_proc_vectors)\n",
    "    distortions.append(sum(np.min(cdist(total_proc_vectors, kmeanModel.cluster_centers_, 'euclidean'), axis=1)) / len(total_proc_vectors[0]))\n",
    "    inertias.append(kmeanModel.inertia_)\n",
    "    mapping1[k] = sum(np.min(cdist(total_proc_vectors, kmeanModel.cluster_centers_, 'euclidean'), axis=1)) / len(total_proc_vectors[0])\n",
    "    mapping2[k] = kmeanModel.inertia_"
   ]
  },
  {
   "cell_type": "code",
   "execution_count": 20,
   "metadata": {},
   "outputs": [
    {
     "name": "stdout",
     "output_type": "stream",
     "text": [
      "1 : 80497.10977657659\n",
      "2 : 75291.11948287807\n",
      "3 : 72209.17173441003\n",
      "4 : 69473.6010738263\n",
      "5 : 67403.74004503971\n",
      "6 : 66360.27839124468\n",
      "7 : 64799.06576820979\n",
      "8 : 63143.11082236788\n",
      "9 : 62155.35208900178\n",
      "10 : 60301.29531721639\n",
      "11 : 59440.771400816535\n",
      "12 : 57934.895542763414\n",
      "13 : 57032.16260874864\n",
      "14 : 55495.43224494191\n",
      "15 : 54114.46917100402\n",
      "16 : 53150.90522825718\n",
      "17 : 51004.852981880635\n",
      "18 : 49945.77321458314\n",
      "19 : 49575.97540608872\n"
     ]
    }
   ],
   "source": [
    "for key, val in mapping2.items():\n",
    "    print(str(key)+' : '+str(val))"
   ]
  },
  {
   "cell_type": "code",
   "execution_count": 21,
   "metadata": {},
   "outputs": [],
   "source": [
    "import matplotlib.pyplot as plt"
   ]
  },
  {
   "cell_type": "code",
   "execution_count": 25,
   "metadata": {},
   "outputs": [
    {
     "data": {
      "image/png": "[encoded data removed]",
      "text/plain": [
       "<Figure size 432x288 with 1 Axes>"
      ]
     },
     "metadata": {
      "needs_background": "light"
     },
     "output_type": "display_data"
    }
   ],
   "source": [
    "plt.plot(K, inertias, 'bx-')\n",
    "plt.xlabel('Values of K')\n",
    "plt.ylabel('Distortions')\n",
    "plt.show()"
   ]
  },
  {
   "cell_type": "code",
   "execution_count": 49,
   "metadata": {},
   "outputs": [],
   "source": [
    "km = KMeans(n_clusters=7, init='random', n_init=30, max_iter=300, tol=1e-04, random_state=0)\n",
    "y_km = km.fit_predict(total_proc_vectors)"
   ]
  },
  {
   "cell_type": "code",
   "execution_count": 46,
   "metadata": {},
   "outputs": [
    {
     "name": "stdout",
     "output_type": "stream",
     "text": [
      "[6 5 6 6 4 6 5 3 5 5 0 6 4 5 5 6 0 0 6 6 0 5 5 4 6 3 0 5 0 6 3 6 5 0 5 0 4\n",
      " 5 6 3 6 4 2 5 6 1 5 3 4 1 3 2 2 0 1 3 4 5 6 6 4 6 6 1 3 6 4 0 6 2 5 4 0 6\n",
      " 6 5 6 6 6 5 0 6 1 3 3 5 6 6 4 5 6 0 4 1]\n"
     ]
    }
   ],
   "source": [
    "print(y_km)"
   ]
  },
  {
   "cell_type": "code",
   "execution_count": 28,
   "metadata": {},
   "outputs": [],
   "source": [
    "from itertools import groupby"
   ]
  },
  {
   "cell_type": "code",
   "execution_count": 50,
   "metadata": {},
   "outputs": [
    {
     "name": "stdout",
     "output_type": "stream",
     "text": [
      "0\n",
      "nqi 'price'\n",
      "txiaj 'money'\n",
      "tibneeg 'human being'\n",
      "vajtswv 'God'\n",
      "dab 'spirit'\n",
      "dejnum 'responsibility'\n",
      "neeg 'person'\n",
      "mejkoob 'marriage negotiator'\n",
      "choj 'bridge'\n",
      "pojniam 'wife'\n",
      "kev 'way'\n",
      "hmoob 'Hmong'\n",
      "duab 'image'\n",
      "dej 'river'\n",
      "txhaum 'mistake'\n",
      "menyuam 'child'\n",
      "neej 'life'\n",
      "\n",
      "1\n",
      "xibfwb 'pastor'\n",
      "doctor 'doctor'\n",
      "yawg 'grandfather'\n",
      "chij 'flag'\n",
      "tswv 'boss'\n",
      "nai 'boss'\n",
      "plig 'soul'\n",
      "saub 'creator god'\n",
      "nyab 'daughter-in-law'\n",
      "thawj 'leader'\n",
      "nom 'government official'\n",
      "yawm 'grandfather'\n",
      "qhev 'servant'\n",
      "nab 'snake'\n",
      "ntawv 'letter'\n",
      "nais 'boss'\n",
      "huabtais 'emperor'\n",
      "\n",
      "2\n",
      "niam 'mother'\n",
      "\n",
      "3\n",
      "pas 'stick'\n",
      "nuv 'hook'\n",
      "hneev 'crossbow'\n",
      "ntses 'fish'\n",
      "qau 'phallus'\n",
      "ntiv 'finger'\n",
      "ntoo 'tree trunk'\n",
      "tav 'rib'\n",
      "nplaig 'tongue'\n",
      "ncej 'pillar'\n",
      "noob 'seed'\n",
      "cag 'root'\n",
      "nas 'rat'\n",
      "txha 'bone'\n",
      "\n",
      "4\n",
      "director 'director'\n",
      "policy 'policy'\n",
      "judge 'judge'\n",
      "cujpwm 'behavior'\n",
      "email 'email'\n",
      "qauv 'form'\n",
      "member 'member'\n",
      "system 'system'\n",
      "thawjcoj 'leader'\n",
      "kasmoos 'politician'\n",
      "yeebncuab 'enemy'\n",
      "leader 'leader'\n",
      "xeebceem 'characteristic'\n",
      "cim 'symbol'\n",
      "txivneej 'man'\n",
      "kheej 'oneself'\n",
      "phone 'phone'\n",
      "cwjpwm 'behavior'\n",
      "president 'president'\n",
      "\n",
      "5\n",
      "phauj 'aunt'\n",
      "kwvtij 'brothers'\n",
      "pog 'grandmother'\n",
      "phoojywg 'friend'\n",
      "noog 'bird'\n",
      "npawg 'cousin'\n",
      "nus 'brother'\n",
      "uncle 'uncle'\n",
      "ntxhais 'daughter'\n",
      "kwv 'brother'\n",
      "tijlaug 'brother'\n",
      "nkauj 'young woman'\n",
      "muam 'sister'\n",
      "txiv 'father/husband'\n",
      "qhua 'guest'\n",
      "vauv 'son-in-law'\n",
      "\n",
      "6\n",
      "tsiaj 'animal'\n",
      "ntxhiab 'scent'\n",
      "npua 'pig'\n",
      "twm 'water buffalo'\n",
      "nyuj 'cow'\n",
      "qaib 'chicken'\n",
      "nees 'horse'\n",
      "dev 'dog'\n",
      "tsov 'tiger'\n",
      "maum 'female'\n",
      "\n"
     ]
    }
   ],
   "source": [
    "outcomes = zip(y_km, total_proc, total_proc_english)\n",
    "total_proc_grouped = groupby(sorted(outcomes, key=lambda x: x[0]), lambda x: x[0])\n",
    "for key, group in total_proc_grouped:\n",
    "    print(key)\n",
    "    for item in group:\n",
    "        print(item[1], \"'\" + item[2] + \"'\")\n",
    "    print()"
   ]
  },
  {
   "cell_type": "markdown",
   "metadata": {},
   "source": [
    "With seven groups, the results are interesting. \n",
    "\n",
    "While group 0 has an unclear semantic basis, group 1 is dominated by terms that refer to people with authority: _xibfwb_ 'pastor', _nai_ 'boss', _nom_ 'government official', and _huabtais_ 'emperor', for example. \n",
    "\n",
    "Group 3 likewise has mostly inanimate objects on the one hand--_pas_ 'stick', _nuv_ 'hook', _ntoo_ 'tree trunk'-- and body parts on the other--_nplaig_ 'tongue' and _txha_ 'bone', for example. \n",
    "\n",
    "Group 4 has English borrowings related to official and other professional concepts, including occupations, such as _director_, _judge_, _system_, and _policy_, some abstract Hmong terms--probably associated with official concepts--such as _xeebceem_ 'characteristic' and _cwjpwm_ 'behavior'.\n",
    "\n",
    "Group 5 is almost a perfect fit for relationships--_phauj_ 'aunt', _kwvtij_ 'brothers', _phoojywg_ 'friend', and so on--while _niam_ 'mother' is alone in group 2 and _noog_ 'bird' is inexplicably in the group.\n",
    "\n",
    "Group 6 is almost exclusively animal terms--_tsiaj_ 'animal', _npua_ 'pig', _twm_ 'water buffalo'--except for _ntxhiab_ 'scent', which makes sense as a term associated with animals.\n",
    "\n",
    "Altogether, the results are a sensible first pass; however, improvements can be made. Obvious categories include 1) inanimate objects characterized by a straight, rigid shape, 2) similarly \"straight\" body parts, 3) official concepts, 4) professional roles, 5) professional concepts, 6) relationships, and 7) animals. The following words present special difficulty for this taxonomy of seven categories, and, unsurprisingly, were grouped together as a sort of \"other\" category: _nqi_ 'price', _duab_ 'image', _dej_ 'river', _txhaum_ 'mistake', _neej_ 'life', _txiaj_ 'money', _chij_ 'flag', _ntawv_ 'letter', and _noob_ 'seed'. This can be explained, however, by the fact that the relationship between these items and the larger categories are the likely result of literal and metaphorical, but idiosyncratic, semantic extensions."
   ]
  },
  {
   "cell_type": "code",
   "execution_count": 34,
   "metadata": {},
   "outputs": [],
   "source": [
    "km = KMeans(n_clusters=30, init='random', n_init=30, max_iter=300, tol=1e-04, random_state=0)\n",
    "y_km = km.fit_predict(total_proc_vectors)"
   ]
  },
  {
   "cell_type": "code",
   "execution_count": 35,
   "metadata": {},
   "outputs": [
    {
     "name": "stdout",
     "output_type": "stream",
     "text": [
      "0\n",
      "ntxhais 'animal'\n",
      "niam 'creator god'\n",
      "maum 'brother'\n",
      "menyuam 'president'\n",
      "\n",
      "1\n",
      "noob 'judge'\n",
      "\n",
      "2\n",
      "nom 'director'\n",
      "huabtais 'grandfather'\n",
      "qhev 'person'\n",
      "kasmoos 'soul'\n",
      "\n",
      "3\n",
      "hmoob 'price'\n",
      "\n",
      "4\n",
      "saub 'government official'\n",
      "\n",
      "5\n",
      "judge 'phallus'\n",
      "president 'spirit'\n",
      "mejkoob 'finger'\n",
      "director 'symbol'\n",
      "\n",
      "6\n",
      "nab 'money'\n",
      "yawm 'boss'\n",
      "yawg 'tree trunk'\n",
      "choj 'seed'\n",
      "\n",
      "7\n",
      "txiaj 'behavior'\n",
      "\n",
      "8\n",
      "ntoo 'leader'\n",
      "\n",
      "9\n",
      "xeebceem 'phone'\n",
      "cwjpwm 'rat'\n",
      "\n",
      "10\n",
      "npua 'marriage negotiator'\n",
      "ntxhiab 'daughter-in-law'\n",
      "nplaig 'pillar'\n",
      "ntiv 'Hmong'\n",
      "qau 'son-in-law'\n",
      "\n",
      "11\n",
      "dej 'pig'\n",
      "\n",
      "12\n",
      "member 'grandmother'\n",
      "leader 'grandfather'\n",
      "\n",
      "13\n",
      "system 'policy'\n",
      "policy 'servant'\n",
      "\n",
      "14\n",
      "txha 'responsibility'\n",
      "pas 'politician'\n",
      "ncej 'dog'\n",
      "\n",
      "15\n",
      "nas 'scent'\n",
      "ntses 'leader'\n",
      "nees 'tongue'\n",
      "noog 'snake'\n",
      "twm 'river'\n",
      "tav 'female'\n",
      "nuv 'emperor'\n",
      "\n",
      "16\n",
      "phone 'doctor'\n",
      "email 'friend'\n",
      "\n",
      "17\n",
      "muam 'brothers'\n",
      "txiv 'pastor'\n",
      "uncle 'uncle'\n",
      "qaib 'wife'\n",
      "nus 'leader'\n",
      "nyab 'brother'\n",
      "vauv 'chicken'\n",
      "phauj 'bone'\n",
      "plig 'guest'\n",
      "nyuj 'life'\n",
      "\n",
      "18\n",
      "nqi 'fish'\n",
      "\n",
      "19\n",
      "dejnum 'crossbow'\n",
      "yeebncuab 'bird'\n",
      "thawj 'form'\n",
      "thawjcoj 'cousin'\n",
      "kev 'bridge'\n",
      "hneev 'system'\n",
      "cag 'way'\n",
      "kheej 'characteristic'\n",
      "cujpwm 'rib'\n",
      "qauv 'tiger'\n",
      "cim 'father/husband'\n",
      "\n",
      "20\n",
      "duab 'flag'\n",
      "kwvtij 'water buffalo'\n",
      "npawg 'boss'\n",
      "phoojywg 'daughter'\n",
      "kwv 'enemy'\n",
      "tijlaug 'behavior'\n",
      "\n",
      "21\n",
      "tsiaj 'human being'\n",
      "tibneeg 'member'\n",
      "neeg 'mother'\n",
      "\n",
      "22\n",
      "dab 'stick'\n",
      "txhaum 'image'\n",
      "\n",
      "23\n",
      "pog 'aunt'\n",
      "nkauj 'sister'\n",
      "\n",
      "24\n",
      "tsov 'horse'\n",
      "dev 'oneself'\n",
      "\n",
      "25\n",
      "chij 'mistake'\n",
      "\n",
      "26\n",
      "tswv 'child'\n",
      "\n",
      "27\n",
      "qhua 'man'\n",
      "xibfwb 'young woman'\n",
      "vajtswv 'root'\n",
      "\n",
      "28\n",
      "nai 'email'\n",
      "doctor 'cow'\n",
      "ntawv 'brother'\n",
      "nais 'letter'\n",
      "\n",
      "29\n",
      "neej 'hook'\n",
      "txivneej 'God'\n",
      "pojniam 'boss'\n",
      "\n"
     ]
    }
   ],
   "source": [
    "outcomes = zip(y_km, total_proc, total_proc_english)\n",
    "total_proc_grouped = groupby(sorted(outcomes, key=lambda x: x[0]), lambda x: x[0])\n",
    "for key, group in total_proc_grouped:\n",
    "    print(key)\n",
    "    for item in group:\n",
    "        print(item[1], \"'\" + item[2] + \"'\")\n",
    "    print()"
   ]
  },
  {
   "cell_type": "code",
   "execution_count": null,
   "metadata": {},
   "outputs": [],
   "source": []
  }
 ],
 "metadata": {
  "kernelspec": {
   "display_name": "Python 3",
   "language": "python",
   "name": "python3"
  },
  "language_info": {
   "codemirror_mode": {
    "name": "ipython",
    "version": 3
   },
   "file_extension": ".py",
   "mimetype": "text/x-python",
   "name": "python",
   "nbconvert_exporter": "python",
   "pygments_lexer": "ipython3",
   "version": "3.7.1"
  }
 },
 "nbformat": 4,
 "nbformat_minor": 2
}
